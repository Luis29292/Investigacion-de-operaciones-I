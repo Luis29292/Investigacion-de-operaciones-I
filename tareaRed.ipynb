{
  "cells": [
    {
      "cell_type": "markdown",
      "metadata": {},
      "source": [
        "# Luis Antonio Domínguez Ávila\n",
        "## Variables: Kilogramos y libras"
      ]
    },
    {
      "cell_type": "code",
      "execution_count": 2,
      "metadata": {
        "id": "1iytQ8auVyEC"
      },
      "outputs": [],
      "source": [
        "import tensorflow as tf\n",
        "import numpy as np"
      ]
    },
    {
      "cell_type": "code",
      "execution_count": 3,
      "metadata": {
        "id": "C5fWBf-IV33M"
      },
      "outputs": [],
      "source": [
        "kilogramos = np.array([1, 5, 10, 15, 20, 25, 30, 35, 40, 45, 50])\n",
        "libras = np.array([2.20, 11.02, 22.05, 33.07, 44.09, 55.12, 66.14, 77.16, 88.18, 99.21, 110.23])\n"
      ]
    },
    {
      "cell_type": "code",
      "execution_count": 4,
      "metadata": {
        "id": "6aEn7ZMvW1G-"
      },
      "outputs": [
        {
          "name": "stderr",
          "output_type": "stream",
          "text": [
            "/Library/Frameworks/Python.framework/Versions/3.11/lib/python3.11/site-packages/keras/src/layers/core/dense.py:86: UserWarning: Do not pass an `input_shape`/`input_dim` argument to a layer. When using Sequential models, prefer using an `Input(shape)` object as the first layer in the model instead.\n",
            "  super().__init__(activity_regularizer=activity_regularizer, **kwargs)\n"
          ]
        }
      ],
      "source": [
        "#capa = tf.keras.layers.Dense(units=1, input_shape=[1])\n",
        "#modelo=tf.keras.Sequential([capa])\n",
        "co1=tf.keras.layers.Dense(units=3, input_shape=[1])\n",
        "co2=tf.keras.layers.Dense(units=3)\n",
        "salida=tf.keras.layers.Dense(units=1)\n",
        "modelo=tf.keras.Sequential([co1,co2,salida])"
      ]
    },
    {
      "cell_type": "code",
      "execution_count": 5,
      "metadata": {
        "id": "luqWtE60XJKy"
      },
      "outputs": [],
      "source": [
        "modelo.compile(\n",
        "    optimizer=tf.keras.optimizers.Adam(0.1),\n",
        "    loss='mean_squared_error'\n",
        ")"
      ]
    },
    {
      "cell_type": "code",
      "execution_count": 6,
      "metadata": {
        "colab": {
          "base_uri": "https://localhost:8080/"
        },
        "id": "c4Wa-OCfYkrx",
        "outputId": "885a5e3a-069c-45b0-8660-d3a7b3cebe32"
      },
      "outputs": [
        {
          "name": "stdout",
          "output_type": "stream",
          "text": [
            "Vamos a entrenar esta red\n",
            "El modelo ha terminado su entrenamiento\n"
          ]
        }
      ],
      "source": [
        "print(\"Vamos a entrenar esta red\")\n",
        "historial=modelo.fit(kilogramos,libras,epochs=5000,verbose=False)\n",
        "print(\"El modelo ha terminado su entrenamiento\")"
      ]
    },
    {
      "cell_type": "code",
      "execution_count": 7,
      "metadata": {
        "colab": {
          "base_uri": "https://localhost:8080/",
          "height": 467
        },
        "id": "WvrEXE3jY1rc",
        "outputId": "c34547bb-c629-4350-8514-0a8af586f345"
      },
      "outputs": [
        {
          "data": {
            "text/plain": [
              "[<matplotlib.lines.Line2D at 0x31545e7d0>]"
            ]
          },
          "execution_count": 7,
          "metadata": {},
          "output_type": "execute_result"
        },
        {
          "data": {
            "image/png": "[encoded data removed]",
            "text/plain": [
              "<Figure size 640x480 with 1 Axes>"
            ]
          },
          "metadata": {},
          "output_type": "display_data"
        }
      ],
      "source": [
        "import matplotlib.pyplot as plt\n",
        "plt.xlabel(\"#Ciclos\")\n",
        "plt.ylabel(\"Tamaño de pérdida\")\n",
        "plt.plot(historial.history[\"loss\"])"
      ]
    },
    {
      "cell_type": "code",
      "execution_count": 8,
      "metadata": {},
      "outputs": [
        {
          "name": "stdout",
          "output_type": "stream",
          "text": [
            "\u001b[1m1/1\u001b[0m \u001b[32m━━━━━━━━━━━━━━━━━━━━\u001b[0m\u001b[37m\u001b[0m \u001b[1m0s\u001b[0m 29ms/step\n",
            "El resultado es [[881.85535]] libras\n"
          ]
        }
      ],
      "source": [
        "resultado = modelo.predict(np.array([400]))\n",
        "print(\"El resultado es \"+str(resultado)+\" libras\")"
      ]
    },
    {
      "cell_type": "code",
      "execution_count": 20,
      "metadata": {},
      "outputs": [
        {
          "name": "stdout",
          "output_type": "stream",
          "text": [
            "[array([[0.23446804, 0.00290204, 0.15079996]], dtype=float32), array([-28.616709 ,  -1.7352731, -35.0202   ], dtype=float32)]\n",
            "[array([[ 0.87130976,  0.9980217 , -0.08087146],\n",
            "       [-0.07520416,  0.2389571 , -0.45190108],\n",
            "       [ 1.3669555 ,  0.55433834, -0.42766744]], dtype=float32), array([-26.219296, -25.760332, -19.513042], dtype=float32)]\n"
          ]
        }
      ],
      "source": [
        "#print(\"Variables internas del modelo\")\n",
        "#print(capas.get_weights())\n",
        "print(co1.get_weights())\n",
        "print(co2.get_weights())"
      ]
    }
  ],
  "metadata": {
    "colab": {
      "provenance": []
    },
    "kernelspec": {
      "display_name": "Python 3",
      "name": "python3"
    },
    "language_info": {
      "codemirror_mode": {
        "name": "ipython",
        "version": 3
      },
      "file_extension": ".py",
      "mimetype": "text/x-python",
      "name": "python",
      "nbconvert_exporter": "python",
      "pygments_lexer": "ipython3",
      "version": "3.11.2"
    }
  },
  "nbformat": 4,
  "nbformat_minor": 0
}
