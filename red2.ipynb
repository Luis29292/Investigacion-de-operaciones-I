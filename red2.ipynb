{
  "cells": [
    {
      "cell_type": "code",
      "execution_count": 1,
      "metadata": {
        "id": "1iytQ8auVyEC"
      },
      "outputs": [],
      "source": [
        "import tensorflow as tf\n",
        "import numpy as np"
      ]
    },
    {
      "cell_type": "code",
      "execution_count": 2,
      "metadata": {
        "id": "C5fWBf-IV33M"
      },
      "outputs": [],
      "source": [
        "kelvin = np.array([100,150,200,250,300,350,400,450,500,550,600])\n",
        "fahrenheit=np.array([-279.67,-189.67,-99.67,-9.67,80.33,170.33,260.33,350.33,440.33,530.33,620.33])"
      ]
    },
    {
      "cell_type": "code",
      "execution_count": 15,
      "metadata": {
        "id": "6aEn7ZMvW1G-"
      },
      "outputs": [
        {
          "name": "stderr",
          "output_type": "stream",
          "text": [
            "/Library/Frameworks/Python.framework/Versions/3.11/lib/python3.11/site-packages/keras/src/layers/core/dense.py:86: UserWarning: Do not pass an `input_shape`/`input_dim` argument to a layer. When using Sequential models, prefer using an `Input(shape)` object as the first layer in the model instead.\n",
            "  super().__init__(activity_regularizer=activity_regularizer, **kwargs)\n"
          ]
        }
      ],
      "source": [
        "#capa = tf.keras.layers.Dense(units=1, input_shape=[1])\n",
        "#modelo=tf.keras.Sequential([capa])\n",
        "co1=tf.keras.layers.Dense(units=3, input_shape=[1])\n",
        "co2=tf.keras.layers.Dense(units=3)\n",
        "salida=tf.keras.layers.Dense(units=1)\n",
        "modelo=tf.keras.Sequential([co1,co2,salida])"
      ]
    },
    {
      "cell_type": "code",
      "execution_count": 16,
      "metadata": {
        "id": "luqWtE60XJKy"
      },
      "outputs": [],
      "source": [
        "modelo.compile(\n",
        "    optimizer=tf.keras.optimizers.Adam(0.1),\n",
        "    loss='mean_squared_error'\n",
        ")"
      ]
    },
    {
      "cell_type": "code",
      "execution_count": 17,
      "metadata": {
        "colab": {
          "base_uri": "https://localhost:8080/"
        },
        "id": "c4Wa-OCfYkrx",
        "outputId": "885a5e3a-069c-45b0-8660-d3a7b3cebe32"
      },
      "outputs": [
        {
          "name": "stdout",
          "output_type": "stream",
          "text": [
            "Vamos a entrenar esta red\n",
            "El modelo ha terminado su entrenamiento\n"
          ]
        }
      ],
      "source": [
        "print(\"Vamos a entrenar esta red\")\n",
        "historial=modelo.fit(kelvin,fahrenheit,epochs=5000,verbose=False)\n",
        "print(\"El modelo ha terminado su entrenamiento\")"
      ]
    },
    {
      "cell_type": "code",
      "execution_count": 18,
      "metadata": {
        "colab": {
          "base_uri": "https://localhost:8080/",
          "height": 467
        },
        "id": "WvrEXE3jY1rc",
        "outputId": "c34547bb-c629-4350-8514-0a8af586f345"
      },
      "outputs": [
        {
          "data": {
            "text/plain": [
              "[<matplotlib.lines.Line2D at 0x30e712e50>]"
            ]
          },
          "execution_count": 18,
          "metadata": {},
          "output_type": "execute_result"
        },
        {
          "data": {
            "image/png": "[encoded data removed]",
            "text/plain": [
              "<Figure size 640x480 with 1 Axes>"
            ]
          },
          "metadata": {},
          "output_type": "display_data"
        }
      ],
      "source": [
        "import matplotlib.pyplot as plt\n",
        "plt.xlabel(\"#Ciclos\")\n",
        "plt.ylabel(\"Tamaño de pérdida\")\n",
        "plt.plot(historial.history[\"loss\"])"
      ]
    },
    {
      "cell_type": "code",
      "execution_count": 19,
      "metadata": {},
      "outputs": [
        {
          "name": "stdout",
          "output_type": "stream",
          "text": [
            "\u001b[1m1/1\u001b[0m \u001b[32m━━━━━━━━━━━━━━━━━━━━\u001b[0m\u001b[37m\u001b[0m \u001b[1m0s\u001b[0m 28ms/step\n",
            "El resultado es [[-67.85295]] fahrenheit\n"
          ]
        }
      ],
      "source": [
        "resultado = modelo.predict(np.array([222.0]))\n",
        "print(\"El resultado es \"+str(resultado)+\" fahrenheit\")"
      ]
    },
    {
      "cell_type": "code",
      "execution_count": 20,
      "metadata": {},
      "outputs": [
        {
          "name": "stdout",
          "output_type": "stream",
          "text": [
            "[array([[0.23446804, 0.00290204, 0.15079996]], dtype=float32), array([-28.616709 ,  -1.7352731, -35.0202   ], dtype=float32)]\n",
            "[array([[ 0.87130976,  0.9980217 , -0.08087146],\n",
            "       [-0.07520416,  0.2389571 , -0.45190108],\n",
            "       [ 1.3669555 ,  0.55433834, -0.42766744]], dtype=float32), array([-26.219296, -25.760332, -19.513042], dtype=float32)]\n"
          ]
        }
      ],
      "source": [
        "#print(\"Variables internas del modelo\")\n",
        "#print(capas.get_weights())\n",
        "print(co1.get_weights())\n",
        "print(co2.get_weights())"
      ]
    }
  ],
  "metadata": {
    "colab": {
      "provenance": []
    },
    "kernelspec": {
      "display_name": "Python 3",
      "name": "python3"
    },
    "language_info": {
      "codemirror_mode": {
        "name": "ipython",
        "version": 3
      },
      "file_extension": ".py",
      "mimetype": "text/x-python",
      "name": "python",
      "nbconvert_exporter": "python",
      "pygments_lexer": "ipython3",
      "version": "3.11.2"
    }
  },
  "nbformat": 4,
  "nbformat_minor": 0
}
